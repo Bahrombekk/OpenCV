{
  "nbformat": 4,
  "nbformat_minor": 0,
  "metadata": {
    "colab": {
      "provenance": [],
      "include_colab_link": true
    },
    "kernelspec": {
      "name": "python3",
      "display_name": "Python 3"
    },
    "language_info": {
      "name": "python"
    }
  },
  "cells": [
    {
      "cell_type": "markdown",
      "metadata": {
        "id": "view-in-github",
        "colab_type": "text"
      },
      "source": [
        "<a href=\"https://colab.research.google.com/github/Bahrombekk/OpenCV/blob/main/%D0%9A%D0%BE%D0%BF%D0%B8%D1%8F_%D0%B1%D0%BB%D0%BE%D0%BA%D0%BD%D0%BE%D1%82%D0%B0_%2204_Contour_Features_ipynb%22.ipynb\" target=\"_parent\"><img src=\"https://colab.research.google.com/assets/colab-badge.svg\" alt=\"Open In Colab\"/></a>"
      ]
    },
    {
      "cell_type": "code",
      "execution_count": 20,
      "metadata": {
        "id": "2qL0QXx8CJEF"
      },
      "outputs": [],
      "source": [
        "import cv2\n",
        "import numpy as np\n",
        "import matplotlib.pyplot as plt\n",
        "# https://github.com/Naxalov/ComputerVision/tree/master/shape%20detection"
      ]
    },
    {
      "cell_type": "code",
      "source": [
        "!wget -O image.png https://raw.githubusercontent.com/Naxalov/ComputerVision/master/shape%20detection/05_square.png"
      ],
      "metadata": {
        "colab": {
          "base_uri": "https://localhost:8080/"
        },
        "id": "W7biUVPoDJtE",
        "outputId": "99f150c2-4b13-4a09-bdc2-a599d4cc1caf"
      },
      "execution_count": 21,
      "outputs": [
        {
          "output_type": "stream",
          "name": "stdout",
          "text": [
            "--2023-05-19 10:28:29--  https://raw.githubusercontent.com/Naxalov/ComputerVision/master/shape%20detection/05_square.png\n",
            "Resolving raw.githubusercontent.com (raw.githubusercontent.com)... 185.199.108.133, 185.199.110.133, 185.199.111.133, ...\n",
            "Connecting to raw.githubusercontent.com (raw.githubusercontent.com)|185.199.108.133|:443... connected.\n",
            "HTTP request sent, awaiting response... 200 OK\n",
            "Length: 2344 (2.3K) [image/png]\n",
            "Saving to: ‘image.png’\n",
            "\n",
            "\rimage.png             0%[                    ]       0  --.-KB/s               \rimage.png           100%[===================>]   2.29K  --.-KB/s    in 0s      \n",
            "\n",
            "2023-05-19 10:28:29 (30.0 MB/s) - ‘image.png’ saved [2344/2344]\n",
            "\n"
          ]
        }
      ]
    },
    {
      "cell_type": "code",
      "source": [
        "# utility \n",
        "def show(img,s=8,b=False):\n",
        "  plt.figure(figsize=(s,s))\n",
        "  plt.imshow(img,cmap='gray')\n",
        "  plt.grid(alpha=.2)\n",
        "  plt.grid(b)\n",
        "  plt.show()"
      ],
      "metadata": {
        "id": "u63DXNX3EsPT"
      },
      "execution_count": 22,
      "outputs": []
    },
    {
      "cell_type": "code",
      "source": [
        "# load shape image\n",
        "img = cv2.imread('image.png')\n",
        "img = cv2.cvtColor(img,cv2.COLOR_BGR2RGB)\n",
        "gray = cv2.cvtColor(img,cv2.COLOR_RGB2GRAY)"
      ],
      "metadata": {
        "id": "j8f21ga0DLcU"
      },
      "execution_count": 35,
      "outputs": []
    },
    {
      "cell_type": "code",
      "source": [
        "plt.imshow(img)\n",
        "plt.show()"
      ],
      "metadata": {
        "colab": {
          "base_uri": "https://localhost:8080/",
          "height": 435
        },
        "id": "xwtmWmgrDOPK",
        "outputId": "72852236-6484-44d3-eaf1-39c1b2c7da3a"
      },
      "execution_count": 36,
      "outputs": [
        {
          "output_type": "display_data",
          "data": {
            "text/plain": [
              "<Figure size 640x480 with 1 Axes>"
            ],
            "image/png": "[encoded data removed]"
          },
          "metadata": {}
        }
      ]
    },
    {
      "cell_type": "code",
      "source": [
        "plt.imshow(gray,cmap='gray')\n",
        "plt.show()"
      ],
      "metadata": {
        "colab": {
          "base_uri": "https://localhost:8080/",
          "height": 435
        },
        "id": "RWttsLLgDQLG",
        "outputId": "03dccc53-f5a9-4619-8a34-f3464f674282"
      },
      "execution_count": 37,
      "outputs": [
        {
          "output_type": "display_data",
          "data": {
            "text/plain": [
              "<Figure size 640x480 with 1 Axes>"
            ],
            "image/png": "[encoded data removed]"
          },
          "metadata": {}
        }
      ]
    },
    {
      "cell_type": "code",
      "source": [
        "thresh = cv2.inRange(gray, 0, 200)\n",
        "contours,_ = cv2.findContours(thresh.copy(), cv2.RETR_EXTERNAL,\tcv2.CHAIN_APPROX_SIMPLE)"
      ],
      "metadata": {
        "id": "VGSfEl0eDUYd"
      },
      "execution_count": 38,
      "outputs": []
    },
    {
      "cell_type": "markdown",
      "source": [
        "# Contour Area\n"
      ],
      "metadata": {
        "id": "MAP1IH-JDW4e"
      }
    },
    {
      "cell_type": "code",
      "source": [
        "area = cv2.contourArea(contours[0])\n",
        "print(area)"
      ],
      "metadata": {
        "colab": {
          "base_uri": "https://localhost:8080/"
        },
        "id": "XfNfs2YoDi17",
        "outputId": "cee66b3e-b773-4c62-c11a-1153b269ba01"
      },
      "execution_count": 39,
      "outputs": [
        {
          "output_type": "stream",
          "name": "stdout",
          "text": [
            "5476.0\n"
          ]
        }
      ]
    },
    {
      "cell_type": "code",
      "source": [
        "data = []\n",
        "i=0\n",
        "for cnt in contours:\n",
        "  \n",
        "  data.append(cv2.contourArea(cnt))\n",
        "  print(cv2.contourArea(cnt))"
      ],
      "metadata": {
        "colab": {
          "base_uri": "https://localhost:8080/"
        },
        "id": "v4-xcK2xqLjP",
        "outputId": "392c2702-a3da-4603-86a5-5d67add41951"
      },
      "execution_count": 40,
      "outputs": [
        {
          "output_type": "stream",
          "name": "stdout",
          "text": [
            "5476.0\n",
            "2401.0\n",
            "3481.0\n",
            "40804.0\n",
            "6241.0\n",
            "10816.0\n",
            "24649.0\n"
          ]
        }
      ]
    },
    {
      "cell_type": "code",
      "source": [
        "data = sorted(data)"
      ],
      "metadata": {
        "id": "ls2ghu1jh3Ul"
      },
      "execution_count": 41,
      "outputs": []
    },
    {
      "cell_type": "code",
      "source": [
        "data"
      ],
      "metadata": {
        "id": "5uPdxjX9h7Eg",
        "outputId": "2fcf33d2-6257-4ca3-e488-e7292566bb49",
        "colab": {
          "base_uri": "https://localhost:8080/"
        }
      },
      "execution_count": 42,
      "outputs": [
        {
          "output_type": "execute_result",
          "data": {
            "text/plain": [
              "[2401.0, 3481.0, 5476.0, 6241.0, 10816.0, 24649.0, 40804.0]"
            ]
          },
          "metadata": {},
          "execution_count": 42
        }
      ]
    },
    {
      "cell_type": "code",
      "source": [
        "img_area = cv2.drawContours(img.copy(),contours,1,(255,255,0),2)"
      ],
      "metadata": {
        "id": "u5OKHJMsjSsR"
      },
      "execution_count": 43,
      "outputs": []
    },
    {
      "cell_type": "code",
      "source": [
        "show(img_area)"
      ],
      "metadata": {
        "id": "WdYltqgbjT4Q",
        "outputId": "13bf8f5c-4ca5-4d3c-dd0e-b27f579db2ce",
        "colab": {
          "base_uri": "https://localhost:8080/",
          "height": 681
        }
      },
      "execution_count": 44,
      "outputs": [
        {
          "output_type": "display_data",
          "data": {
            "text/plain": [
              "<Figure size 800x800 with 1 Axes>"
            ],
            "image/png": "[encoded data removed]"
          },
          "metadata": {}
        }
      ]
    },
    {
      "cell_type": "code",
      "source": [
        "for i in data:\n",
        "  for j in contours:\n",
        "    s = cv2.contourArea(j)\n",
        "    x,y,h,w = cv2.boundingRect(j)\n",
        "    k = data.index(s)\n",
        "    if i==s:\n",
        "      img = cv2.putText(img_area,str(k+1),(x,y),2,1,(0,0,255))    \n",
        "show(img)\n",
        "    "
      ],
      "metadata": {
        "id": "tHpEllaCh3Mc",
        "outputId": "e08aba14-f593-4b89-b794-80dcde65a0d1",
        "colab": {
          "base_uri": "https://localhost:8080/",
          "height": 681
        }
      },
      "execution_count": 45,
      "outputs": [
        {
          "output_type": "display_data",
          "data": {
            "text/plain": [
              "<Figure size 800x800 with 1 Axes>"
            ],
            "image/png": "[encoded data removed]"
          },
          "metadata": {}
        }
      ]
    },
    {
      "cell_type": "code",
      "source": [],
      "metadata": {
        "id": "TVxnGjWQuNQN"
      },
      "execution_count": 45,
      "outputs": []
    }
  ]
}