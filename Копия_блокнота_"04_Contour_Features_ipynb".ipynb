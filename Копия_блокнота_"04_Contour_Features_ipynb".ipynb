{
  "nbformat": 4,
  "nbformat_minor": 0,
  "metadata": {
    "colab": {
      "provenance": [],
      "include_colab_link": true
    },
    "kernelspec": {
      "name": "python3",
      "display_name": "Python 3"
    },
    "language_info": {
      "name": "python"
    }
  },
  "cells": [
    {
      "cell_type": "markdown",
      "metadata": {
        "id": "view-in-github",
        "colab_type": "text"
      },
      "source": [
        "<a href=\"https://colab.research.google.com/github/Bahrombekk/OpenCV/blob/main/%D0%9A%D0%BE%D0%BF%D0%B8%D1%8F_%D0%B1%D0%BB%D0%BE%D0%BA%D0%BD%D0%BE%D1%82%D0%B0_%2204_Contour_Features_ipynb%22.ipynb\" target=\"_parent\"><img src=\"https://colab.research.google.com/assets/colab-badge.svg\" alt=\"Open In Colab\"/></a>"
      ]
    },
    {
      "cell_type": "code",
      "execution_count": 20,
      "metadata": {
        "id": "2qL0QXx8CJEF"
      },
      "outputs": [],
      "source": [
        "import cv2\n",
        "import numpy as np\n",
        "import matplotlib.pyplot as plt\n",
        "# https://github.com/Naxalov/ComputerVision/tree/master/shape%20detection"
      ]
    },
    {
      "cell_type": "code",
      "source": [
        "!wget -O image.png https://raw.githubusercontent.com/Naxalov/ComputerVision/master/shape%20detection/05_square.png"
      ],
      "metadata": {
        "colab": {
          "base_uri": "https://localhost:8080/"
        },
        "id": "W7biUVPoDJtE",
        "outputId": "76bc0918-8733-4d22-8fde-f290e761f468"
      },
      "execution_count": 21,
      "outputs": [
        {
          "output_type": "stream",
          "name": "stdout",
          "text": [
            "--2023-05-17 12:18:16--  https://raw.githubusercontent.com/Naxalov/ComputerVision/master/shape%20detection/05_square.png\n",
            "Resolving raw.githubusercontent.com (raw.githubusercontent.com)... 185.199.108.133, 185.199.109.133, 185.199.110.133, ...\n",
            "Connecting to raw.githubusercontent.com (raw.githubusercontent.com)|185.199.108.133|:443... connected.\n",
            "HTTP request sent, awaiting response... 200 OK\n",
            "Length: 2344 (2.3K) [image/png]\n",
            "Saving to: ‘image.png’\n",
            "\n",
            "image.png           100%[===================>]   2.29K  --.-KB/s    in 0s      \n",
            "\n",
            "2023-05-17 12:18:16 (37.7 MB/s) - ‘image.png’ saved [2344/2344]\n",
            "\n"
          ]
        }
      ]
    },
    {
      "cell_type": "code",
      "source": [
        "# utility \n",
        "def show(img,s=8,b=False):\n",
        "  plt.figure(figsize=(s,s))\n",
        "  plt.imshow(img,cmap='gray')\n",
        "  plt.grid(alpha=.2)\n",
        "  plt.grid(b)\n",
        "  plt.show()"
      ],
      "metadata": {
        "id": "u63DXNX3EsPT"
      },
      "execution_count": 22,
      "outputs": []
    },
    {
      "cell_type": "code",
      "source": [
        "# load shape image\n",
        "img = cv2.imread('image.png')\n",
        "img = cv2.cvtColor(img,cv2.COLOR_BGR2RGB)\n",
        "gray = cv2.cvtColor(img,cv2.COLOR_RGB2GRAY)"
      ],
      "metadata": {
        "id": "j8f21ga0DLcU"
      },
      "execution_count": 23,
      "outputs": []
    },
    {
      "cell_type": "code",
      "source": [
        "plt.imshow(img)\n",
        "plt.show()"
      ],
      "metadata": {
        "colab": {
          "base_uri": "https://localhost:8080/",
          "height": 435
        },
        "id": "xwtmWmgrDOPK",
        "outputId": "31489d9a-1af5-462d-d64c-59080728ae52"
      },
      "execution_count": 24,
      "outputs": [
        {
          "output_type": "display_data",
          "data": {
            "text/plain": [
              "<Figure size 640x480 with 1 Axes>"
            ],
            "image/png": "[encoded data removed]"
          },
          "metadata": {}
        }
      ]
    },
    {
      "cell_type": "code",
      "source": [
        "plt.imshow(gray,cmap='gray')\n",
        "plt.show()"
      ],
      "metadata": {
        "colab": {
          "base_uri": "https://localhost:8080/",
          "height": 435
        },
        "id": "RWttsLLgDQLG",
        "outputId": "a6571bde-7802-43af-fcfa-87aa2e14a6f4"
      },
      "execution_count": 25,
      "outputs": [
        {
          "output_type": "display_data",
          "data": {
            "text/plain": [
              "<Figure size 640x480 with 1 Axes>"
            ],
            "image/png": "[encoded data removed]"
          },
          "metadata": {}
        }
      ]
    },
    {
      "cell_type": "code",
      "source": [
        "thresh = cv2.inRange(gray, 0, 200)\n",
        "contours,_ = cv2.findContours(thresh.copy(), cv2.RETR_EXTERNAL,\tcv2.CHAIN_APPROX_SIMPLE)"
      ],
      "metadata": {
        "id": "VGSfEl0eDUYd"
      },
      "execution_count": 26,
      "outputs": []
    },
    {
      "cell_type": "markdown",
      "source": [
        "# Contour Area\n"
      ],
      "metadata": {
        "id": "MAP1IH-JDW4e"
      }
    },
    {
      "cell_type": "code",
      "source": [
        "area = cv2.contourArea(contours[0])\n",
        "print(area)"
      ],
      "metadata": {
        "colab": {
          "base_uri": "https://localhost:8080/"
        },
        "id": "XfNfs2YoDi17",
        "outputId": "e1c12782-94de-44c7-9007-904ec1718366"
      },
      "execution_count": 27,
      "outputs": [
        {
          "output_type": "stream",
          "name": "stdout",
          "text": [
            "5476.0\n"
          ]
        }
      ]
    },
    {
      "cell_type": "code",
      "source": [
        "def contourlar_sonini_topish(contours):\n",
        "  l=[]\n",
        "  for cnt in contours:\n",
        "    l.append(int(cv2.contourArea(cnt)))\n",
        "  l1=[]\n",
        "  for i in l:\n",
        "    l1.append(l.index(i))\n",
        "  return l1\n",
        "contourlar_sonini_topish(contours)\n"
      ],
      "metadata": {
        "colab": {
          "base_uri": "https://localhost:8080/"
        },
        "id": "v4-xcK2xqLjP",
        "outputId": "790dcee6-887e-4c68-d518-f80156d65bc4"
      },
      "execution_count": 33,
      "outputs": [
        {
          "output_type": "execute_result",
          "data": {
            "text/plain": [
              "[0, 1, 2, 3, 4, 5, 6]"
            ]
          },
          "metadata": {},
          "execution_count": 33
        }
      ]
    },
    {
      "cell_type": "code",
      "source": [
        "def draw(fil):\n",
        "  for i in l1:\n",
        "    img_area = cv2.drawContours(fil,contours,i,(255,255,0),2)\n",
        "\n",
        "  return img_area\n",
        "draw(img)"
      ],
      "metadata": {
        "colab": {
          "base_uri": "https://localhost:8080/"
        },
        "id": "XAsPoMo5qTOQ",
        "outputId": "a78a3ace-84ff-444f-eb8b-7c167dc1a175"
      },
      "execution_count": 34,
      "outputs": [
        {
          "output_type": "execute_result",
          "data": {
            "text/plain": [
              "array([[[255, 255, 255],\n",
              "        [255, 255, 255],\n",
              "        [255, 255, 255],\n",
              "        ...,\n",
              "        [255, 255, 255],\n",
              "        [255, 255, 255],\n",
              "        [255, 255, 255]],\n",
              "\n",
              "       [[255, 255, 255],\n",
              "        [255, 255, 255],\n",
              "        [255, 255, 255],\n",
              "        ...,\n",
              "        [255, 255, 255],\n",
              "        [255, 255, 255],\n",
              "        [255, 255, 255]],\n",
              "\n",
              "       [[255, 255, 255],\n",
              "        [255, 255, 255],\n",
              "        [255, 255, 255],\n",
              "        ...,\n",
              "        [255, 255, 255],\n",
              "        [255, 255, 255],\n",
              "        [255, 255, 255]],\n",
              "\n",
              "       ...,\n",
              "\n",
              "       [[255, 255, 255],\n",
              "        [255, 255, 255],\n",
              "        [255, 255, 255],\n",
              "        ...,\n",
              "        [255, 255, 255],\n",
              "        [255, 255, 255],\n",
              "        [255, 255, 255]],\n",
              "\n",
              "       [[255, 255, 255],\n",
              "        [255, 255, 255],\n",
              "        [255, 255, 255],\n",
              "        ...,\n",
              "        [255, 255, 255],\n",
              "        [255, 255, 255],\n",
              "        [255, 255, 255]],\n",
              "\n",
              "       [[255, 255, 255],\n",
              "        [255, 255, 255],\n",
              "        [255, 255, 255],\n",
              "        ...,\n",
              "        [255, 255, 255],\n",
              "        [255, 255, 255],\n",
              "        [255, 255, 255]]], dtype=uint8)"
            ]
          },
          "metadata": {},
          "execution_count": 34
        }
      ]
    },
    {
      "cell_type": "code",
      "source": [
        "show(img_area)"
      ],
      "metadata": {
        "colab": {
          "base_uri": "https://localhost:8080/",
          "height": 172
        },
        "id": "PJ6iP3w7pGyn",
        "outputId": "fc1470e8-ea27-4312-a7ab-555dabf10596"
      },
      "execution_count": 36,
      "outputs": [
        {
          "output_type": "error",
          "ename": "NameError",
          "evalue": "ignored",
          "traceback": [
            "\u001b[0;31m---------------------------------------------------------------------------\u001b[0m",
            "\u001b[0;31mNameError\u001b[0m                                 Traceback (most recent call last)",
            "\u001b[0;32m<ipython-input-36-29b3dc33a764>\u001b[0m in \u001b[0;36m<cell line: 1>\u001b[0;34m()\u001b[0m\n\u001b[0;32m----> 1\u001b[0;31m \u001b[0mshow\u001b[0m\u001b[0;34m(\u001b[0m\u001b[0mimg_area\u001b[0m\u001b[0;34m)\u001b[0m\u001b[0;34m\u001b[0m\u001b[0;34m\u001b[0m\u001b[0m\n\u001b[0m",
            "\u001b[0;31mNameError\u001b[0m: name 'img_area' is not defined"
          ]
        }
      ]
    },
    {
      "cell_type": "code",
      "source": [
        "M=cv2.moments(contours[0])\n",
        "cx=int(M['m10']/M['m00'])\n",
        "cy=int(M['m01']/M['m00'])"
      ],
      "metadata": {
        "id": "xUvJkQEPn0-D"
      },
      "execution_count": null,
      "outputs": []
    },
    {
      "cell_type": "code",
      "source": [
        "show(img_area,cx,cy)"
      ],
      "metadata": {
        "id": "4862RTlJEfs_"
      },
      "execution_count": null,
      "outputs": []
    },
    {
      "cell_type": "code",
      "source": [],
      "metadata": {
        "id": "NM-pRT4wo4bV"
      },
      "execution_count": null,
      "outputs": []
    }
  ]
}