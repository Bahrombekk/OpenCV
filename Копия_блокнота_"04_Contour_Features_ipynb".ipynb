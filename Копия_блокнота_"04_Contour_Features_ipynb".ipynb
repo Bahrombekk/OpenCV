{
  "nbformat": 4,
  "nbformat_minor": 0,
  "metadata": {
    "colab": {
      "provenance": [],
      "include_colab_link": true
    },
    "kernelspec": {
      "name": "python3",
      "display_name": "Python 3"
    },
    "language_info": {
      "name": "python"
    }
  },
  "cells": [
    {
      "cell_type": "markdown",
      "metadata": {
        "id": "view-in-github",
        "colab_type": "text"
      },
      "source": [
        "<a href=\"https://colab.research.google.com/github/Bahrombekk/OpenCV/blob/main/%D0%9A%D0%BE%D0%BF%D0%B8%D1%8F_%D0%B1%D0%BB%D0%BE%D0%BA%D0%BD%D0%BE%D1%82%D0%B0_%2204_Contour_Features_ipynb%22.ipynb\" target=\"_parent\"><img src=\"https://colab.research.google.com/assets/colab-badge.svg\" alt=\"Open In Colab\"/></a>"
      ]
    },
    {
      "cell_type": "code",
      "execution_count": 17,
      "metadata": {
        "id": "2qL0QXx8CJEF"
      },
      "outputs": [],
      "source": [
        "import cv2\n",
        "import numpy as np\n",
        "import matplotlib.pyplot as plt\n",
        "# https://github.com/Naxalov/ComputerVision/tree/master/shape%20detection"
      ]
    },
    {
      "cell_type": "code",
      "source": [
        "!wget -O image.png https://raw.githubusercontent.com/Naxalov/ComputerVision/master/shape%20detection/05_square.png"
      ],
      "metadata": {
        "colab": {
          "base_uri": "https://localhost:8080/"
        },
        "id": "W7biUVPoDJtE",
        "outputId": "fd4d3504-ef48-4f2c-df60-0e7462f1a4a8"
      },
      "execution_count": 18,
      "outputs": [
        {
          "output_type": "stream",
          "name": "stdout",
          "text": [
            "--2023-05-17 12:44:33--  https://raw.githubusercontent.com/Naxalov/ComputerVision/master/shape%20detection/05_square.png\n",
            "Resolving raw.githubusercontent.com (raw.githubusercontent.com)... 185.199.108.133, 185.199.109.133, 185.199.110.133, ...\n",
            "Connecting to raw.githubusercontent.com (raw.githubusercontent.com)|185.199.108.133|:443... connected.\n",
            "HTTP request sent, awaiting response... 200 OK\n",
            "Length: 2344 (2.3K) [image/png]\n",
            "Saving to: ‘image.png’\n",
            "\n",
            "\rimage.png             0%[                    ]       0  --.-KB/s               \rimage.png           100%[===================>]   2.29K  --.-KB/s    in 0s      \n",
            "\n",
            "2023-05-17 12:44:33 (23.0 MB/s) - ‘image.png’ saved [2344/2344]\n",
            "\n"
          ]
        }
      ]
    },
    {
      "cell_type": "code",
      "source": [
        "# utility \n",
        "def show(img,s=8,b=False):\n",
        "  plt.figure(figsize=(s,s))\n",
        "  plt.imshow(img,cmap='gray')\n",
        "  plt.grid(alpha=.2)\n",
        "  plt.grid(b)\n",
        "  plt.show()"
      ],
      "metadata": {
        "id": "u63DXNX3EsPT"
      },
      "execution_count": 73,
      "outputs": []
    },
    {
      "cell_type": "code",
      "source": [
        "# load shape image\n",
        "img = cv2.imread('image.png')\n",
        "img = cv2.cvtColor(img,cv2.COLOR_BGR2RGB)\n",
        "gray = cv2.cvtColor(img,cv2.COLOR_RGB2GRAY)"
      ],
      "metadata": {
        "id": "j8f21ga0DLcU"
      },
      "execution_count": 74,
      "outputs": []
    },
    {
      "cell_type": "code",
      "source": [
        "plt.imshow(img)\n",
        "plt.show()"
      ],
      "metadata": {
        "colab": {
          "base_uri": "https://localhost:8080/",
          "height": 435
        },
        "id": "xwtmWmgrDOPK",
        "outputId": "6adbe957-5116-46db-dd47-8898ff7267d1"
      },
      "execution_count": 75,
      "outputs": [
        {
          "output_type": "display_data",
          "data": {
            "text/plain": [
              "<Figure size 640x480 with 1 Axes>"
            ],
            "image/png": "[encoded data removed]"
          },
          "metadata": {}
        }
      ]
    },
    {
      "cell_type": "code",
      "source": [
        "plt.imshow(gray,cmap='gray')\n",
        "plt.show()"
      ],
      "metadata": {
        "colab": {
          "base_uri": "https://localhost:8080/",
          "height": 435
        },
        "id": "RWttsLLgDQLG",
        "outputId": "1880223e-211e-4803-ad0f-e73239dae642"
      },
      "execution_count": 76,
      "outputs": [
        {
          "output_type": "display_data",
          "data": {
            "text/plain": [
              "<Figure size 640x480 with 1 Axes>"
            ],
            "image/png": "[encoded data removed]"
          },
          "metadata": {}
        }
      ]
    },
    {
      "cell_type": "code",
      "source": [
        "thresh = cv2.inRange(gray, 0, 200)\n",
        "contours,_ = cv2.findContours(thresh.copy(), cv2.RETR_EXTERNAL,\tcv2.CHAIN_APPROX_SIMPLE)"
      ],
      "metadata": {
        "id": "VGSfEl0eDUYd"
      },
      "execution_count": 77,
      "outputs": []
    },
    {
      "cell_type": "markdown",
      "source": [
        "# Contour Area\n"
      ],
      "metadata": {
        "id": "MAP1IH-JDW4e"
      }
    },
    {
      "cell_type": "code",
      "source": [
        "area = cv2.contourArea(contours[0])\n",
        "print(area)"
      ],
      "metadata": {
        "colab": {
          "base_uri": "https://localhost:8080/"
        },
        "id": "XfNfs2YoDi17",
        "outputId": "b2bab8ab-8319-43a2-e9df-f6ec383d9fc5"
      },
      "execution_count": 78,
      "outputs": [
        {
          "output_type": "stream",
          "name": "stdout",
          "text": [
            "5476.0\n"
          ]
        }
      ]
    },
    {
      "cell_type": "code",
      "source": [
        "l=[]\n",
        "for cnt in contours:\n",
        "  l.append(int(cv2.contourArea(cnt)))\n",
        "l1=[]\n",
        "for i in l:\n",
        "  l1.append(l.index(i))\n",
        "print(l1)\n"
      ],
      "metadata": {
        "colab": {
          "base_uri": "https://localhost:8080/"
        },
        "id": "v4-xcK2xqLjP",
        "outputId": "4bbedf10-91b8-4cc7-e7b0-3ea5569d977e"
      },
      "execution_count": 79,
      "outputs": [
        {
          "output_type": "stream",
          "name": "stdout",
          "text": [
            "[0, 1, 2, 3, 4, 5, 6]\n"
          ]
        }
      ]
    },
    {
      "cell_type": "code",
      "source": [
        "for i in l1:\n",
        "  img_area = cv2.drawContours(img,contours,i,(255,255,0),2)\n",
        "  M=cv2.moments(contours[i])\n",
        "  cx=int(M['m10']/M['m00'])\n",
        "  cy=int(M['m01']/M['m00'])\n",
        "  txt=cv2.putText(img,f'{i}',(cx,cy),16,1,(0,0,255),thickness=3)\n",
        "show(img_area)"
      ],
      "metadata": {
        "colab": {
          "base_uri": "https://localhost:8080/",
          "height": 681
        },
        "id": "XAsPoMo5qTOQ",
        "outputId": "28d27831-f130-41cd-a0ec-0738f6d00ee7"
      },
      "execution_count": 80,
      "outputs": [
        {
          "output_type": "display_data",
          "data": {
            "text/plain": [
              "<Figure size 800x800 with 1 Axes>"
            ],
            "image/png": "[encoded data removed]"
          },
          "metadata": {}
        }
      ]
    },
    {
      "cell_type": "code",
      "source": [],
      "metadata": {
        "id": "TVxnGjWQuNQN"
      },
      "execution_count": 80,
      "outputs": []
    }
  ]
}